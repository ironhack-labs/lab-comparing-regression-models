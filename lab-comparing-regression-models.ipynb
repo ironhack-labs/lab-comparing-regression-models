{
 "cells": [
  {
   "cell_type": "code",
   "execution_count": 16,
   "id": "44a118d5",
   "metadata": {},
   "outputs": [],
   "source": [
    "#importing libraries and file\n",
    "from sklearn.model_selection import train_test_split\n",
    "from sklearn.linear_model import LinearRegression\n",
    "from sklearn.metrics import r2_score, mean_squared_error, mean_absolute_error\n",
    "from sklearn.neighbors import KNeighborsRegressor\n",
    "from sklearn.neural_network import MLPRegressor\n",
    "import numpy as np\n",
    "import pandas as pd\n",
    "\n",
    "import warnings\n",
    "warnings.filterwarnings('ignore')\n",
    "\n",
    "mkt = pd.read_csv(r\"C:\\Users\\pedro\\Desktop\\Ironhack\\final_customer.csv\")"
   ]
  },
  {
   "cell_type": "code",
   "execution_count": 17,
   "id": "dc0a4e08",
   "metadata": {},
   "outputs": [],
   "source": [
    "mkt=mkt.drop(['Unnamed: 0'],axis=1)"
   ]
  },
  {
   "cell_type": "code",
   "execution_count": 24,
   "id": "a2605456",
   "metadata": {},
   "outputs": [
    {
     "name": "stdout",
     "output_type": "stream",
     "text": [
      "R2: 0.77\n",
      "MSE: 0.01\n",
      "root MSE: 0.09\n",
      "MAE: 0.06\n"
     ]
    }
   ],
   "source": [
    "#train test split and simple linear regression\n",
    "\n",
    "# X - y Split\n",
    "y = mkt['total_claim_amount']\n",
    "X = mkt.drop(['total_claim_amount'],axis = 1)\n",
    "\n",
    "# Train test split\n",
    "from sklearn.model_selection import train_test_split\n",
    "X_train, X_test, y_train, y_test = train_test_split(X, y, test_size=0.20, random_state=0) # 80% train\n",
    "\n",
    "# Create the model\n",
    "lm = LinearRegression()\n",
    "model = lm.fit(X_train,y_train)\n",
    "\n",
    "# Evaluating the model\n",
    "lm.score(X_train,y_train) # This is the R^2\n",
    "predictions = lm.predict(X_test) # Here our predictions\n",
    "\n",
    "r2 = r2_score(y_test, predictions)\n",
    "mse = mean_squared_error(y_test, predictions)\n",
    "rmse = np.sqrt(mse)\n",
    "mae = mean_absolute_error(y_test, predictions)\n",
    "\n",
    "print(\"R2:\", round(r2, 2))\n",
    "print(\"MSE:\", round(mse, 2))\n",
    "print(\"root MSE:\", round(rmse, 2))\n",
    "print(\"MAE:\", round(mae, 2))"
   ]
  },
  {
   "cell_type": "code",
   "execution_count": 25,
   "id": "3548eacd",
   "metadata": {
    "scrolled": true
   },
   "outputs": [],
   "source": [
    "#defining a function that takes a list of models and train (and tests) them so we can try a lot of them without repeating code.\n",
    "\n",
    "def model(data_frame, target_variable, chosen_model):\n",
    "    # X-y split\n",
    "    X = data_frame.drop(target_variable, axis=1)\n",
    "    y = data_frame[target_variable]\n",
    "\n",
    "    # Train-test split\n",
    "    X_train, X_test, y_train, y_test = train_test_split(X, y, test_size=0.2, random_state=0)\n",
    "\n",
    "    # Use the chosen model\n",
    "    model = chosen_model\n",
    "    model.fit(X_train, y_train)\n",
    "    y_predictions = model.predict(X_test)\n",
    "\n",
    "    # Calculating errors\n",
    "    r2 = r2_score(y_test, y_predictions)\n",
    "    mse = mean_squared_error(y_test, y_predictions)\n",
    "    rmse = np.sqrt(mse)\n",
    "    mae = mean_absolute_error(y_test, y_predictions)\n",
    "\n",
    "    print(\"R2:\", round(r2, 2))\n",
    "    print(\"MSE:\", round(mse, 2))\n",
    "    print(\"root MSE:\", round(rmse, 2))\n",
    "    print(\"MAE:\", round(mae, 2))"
   ]
  },
  {
   "cell_type": "code",
   "execution_count": 26,
   "id": "279a953b",
   "metadata": {},
   "outputs": [
    {
     "name": "stdout",
     "output_type": "stream",
     "text": [
      "R2: 0.77\n",
      "MSE: 0.01\n",
      "root MSE: 0.09\n",
      "MAE: 0.06\n"
     ]
    }
   ],
   "source": [
    "#Using the function to check LinearRegressor and KNeighborsRegressor\n",
    "model(mkt, \"total_claim_amount\", LinearRegression())"
   ]
  },
  {
   "cell_type": "code",
   "execution_count": 27,
   "id": "7f6faf9c",
   "metadata": {},
   "outputs": [
    {
     "name": "stdout",
     "output_type": "stream",
     "text": [
      "R2: 0.02\n",
      "MSE: 0.03\n",
      "root MSE: 0.18\n",
      "MAE: 0.13\n"
     ]
    }
   ],
   "source": [
    "#Using the function to check KNeighborsRegressor (R squared only 0.02!!!!)\n",
    "model(mkt, \"total_claim_amount\", KNeighborsRegressor(n_neighbors = 80))"
   ]
  },
  {
   "cell_type": "code",
   "execution_count": 28,
   "id": "db14f43d",
   "metadata": {},
   "outputs": [
    {
     "name": "stdout",
     "output_type": "stream",
     "text": [
      "R2: 0.54\n",
      "MSE: 0.01\n",
      "root MSE: 0.12\n",
      "MAE: 0.09\n"
     ]
    }
   ],
   "source": [
    "#Using the function to check MLPRegressor\n",
    "model(mkt, \"total_claim_amount\", MLPRegressor(hidden_layer_sizes=(100, 100), tol=1e-2, max_iter=500, random_state=0))"
   ]
  },
  {
   "cell_type": "code",
   "execution_count": 29,
   "id": "b2172427",
   "metadata": {},
   "outputs": [],
   "source": [
    "#Based on the results above, the best model is linear regression"
   ]
  }
 ],
 "metadata": {
  "kernelspec": {
   "display_name": "Python 3 (ipykernel)",
   "language": "python",
   "name": "python3"
  },
  "language_info": {
   "codemirror_mode": {
    "name": "ipython",
    "version": 3
   },
   "file_extension": ".py",
   "mimetype": "text/x-python",
   "name": "python",
   "nbconvert_exporter": "python",
   "pygments_lexer": "ipython3",
   "version": "3.11.4"
  }
 },
 "nbformat": 4,
 "nbformat_minor": 5
}
